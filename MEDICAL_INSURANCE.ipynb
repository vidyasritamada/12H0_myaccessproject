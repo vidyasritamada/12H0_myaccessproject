{
 "cells": [
  {
   "cell_type": "code",
   "execution_count": 3,
   "metadata": {},
   "outputs": [],
   "source": [
    "import pandas as pd\n",
    "import numpy as np\n",
    "from sklearn.preprocessing import StandardScaler,LabelEncoder\n",
    "from sklearn.model_selection import train_test_split\n",
    "from sklearn.linear_model import LinearRegression\n",
    "from sklearn.tree import DecisionTreeRegressor\n",
    "from sklearn.ensemble import RandomForestRegressor\n",
    "from sklearn.metrics import r2_score\n",
    "import matplotlib.pyplot as plt\n",
    "import seaborn as sns\n",
    "import warnings\n",
    "warnings.filterwarnings(\"ignore\")"
   ]
  },
  {
   "cell_type": "code",
   "execution_count": 4,
   "metadata": {},
   "outputs": [
    {
     "data": {
      "text/html": [
       "<div>\n",
       "<style scoped>\n",
       "    .dataframe tbody tr th:only-of-type {\n",
       "        vertical-align: middle;\n",
       "    }\n",
       "\n",
       "    .dataframe tbody tr th {\n",
       "        vertical-align: top;\n",
       "    }\n",
       "\n",
       "    .dataframe thead th {\n",
       "        text-align: right;\n",
       "    }\n",
       "</style>\n",
       "<table border=\"1\" class=\"dataframe\">\n",
       "  <thead>\n",
       "    <tr style=\"text-align: right;\">\n",
       "      <th></th>\n",
       "      <th>id</th>\n",
       "      <th>age</th>\n",
       "      <th>gender</th>\n",
       "      <th>bmi</th>\n",
       "      <th>children</th>\n",
       "      <th>smoker</th>\n",
       "      <th>region</th>\n",
       "      <th>charges</th>\n",
       "    </tr>\n",
       "  </thead>\n",
       "  <tbody>\n",
       "    <tr>\n",
       "      <th>0</th>\n",
       "      <td>1</td>\n",
       "      <td>19</td>\n",
       "      <td>female</td>\n",
       "      <td>27.90</td>\n",
       "      <td>0</td>\n",
       "      <td>yes</td>\n",
       "      <td>southwest</td>\n",
       "      <td>16884.9240</td>\n",
       "    </tr>\n",
       "    <tr>\n",
       "      <th>1</th>\n",
       "      <td>2</td>\n",
       "      <td>18</td>\n",
       "      <td>male</td>\n",
       "      <td>33.77</td>\n",
       "      <td>1</td>\n",
       "      <td>no</td>\n",
       "      <td>southeast</td>\n",
       "      <td>1725.5523</td>\n",
       "    </tr>\n",
       "  </tbody>\n",
       "</table>\n",
       "</div>"
      ],
      "text/plain": [
       "   id  age  gender    bmi  children smoker     region     charges\n",
       "0   1   19  female  27.90         0    yes  southwest  16884.9240\n",
       "1   2   18    male  33.77         1     no  southeast   1725.5523"
      ]
     },
     "execution_count": 4,
     "metadata": {},
     "output_type": "execute_result"
    }
   ],
   "source": [
    "df=pd.read_csv(\"./MI_12H0.csv\")\n",
    "df.head(2)"
   ]
  },
  {
   "cell_type": "code",
   "execution_count": 5,
   "metadata": {},
   "outputs": [
    {
     "data": {
      "text/plain": [
       "(2772, 8)"
      ]
     },
     "execution_count": 5,
     "metadata": {},
     "output_type": "execute_result"
    }
   ],
   "source": [
    "df.shape"
   ]
  },
  {
   "cell_type": "code",
   "execution_count": 6,
   "metadata": {},
   "outputs": [
    {
     "name": "stdout",
     "output_type": "stream",
     "text": [
      "<class 'pandas.core.frame.DataFrame'>\n",
      "RangeIndex: 2772 entries, 0 to 2771\n",
      "Data columns (total 8 columns):\n",
      " #   Column    Non-Null Count  Dtype  \n",
      "---  ------    --------------  -----  \n",
      " 0   id        2772 non-null   int64  \n",
      " 1   age       2772 non-null   int64  \n",
      " 2   gender    2772 non-null   object \n",
      " 3   bmi       2772 non-null   float64\n",
      " 4   children  2772 non-null   int64  \n",
      " 5   smoker    2772 non-null   object \n",
      " 6   region    2772 non-null   object \n",
      " 7   charges   2772 non-null   float64\n",
      "dtypes: float64(2), int64(3), object(3)\n",
      "memory usage: 173.4+ KB\n"
     ]
    }
   ],
   "source": [
    "df.info()"
   ]
  },
  {
   "cell_type": "code",
   "execution_count": 7,
   "metadata": {},
   "outputs": [
    {
     "data": {
      "text/html": [
       "<div>\n",
       "<style scoped>\n",
       "    .dataframe tbody tr th:only-of-type {\n",
       "        vertical-align: middle;\n",
       "    }\n",
       "\n",
       "    .dataframe tbody tr th {\n",
       "        vertical-align: top;\n",
       "    }\n",
       "\n",
       "    .dataframe thead th {\n",
       "        text-align: right;\n",
       "    }\n",
       "</style>\n",
       "<table border=\"1\" class=\"dataframe\">\n",
       "  <thead>\n",
       "    <tr style=\"text-align: right;\">\n",
       "      <th></th>\n",
       "      <th>id</th>\n",
       "      <th>age</th>\n",
       "      <th>bmi</th>\n",
       "      <th>children</th>\n",
       "      <th>charges</th>\n",
       "    </tr>\n",
       "  </thead>\n",
       "  <tbody>\n",
       "    <tr>\n",
       "      <th>count</th>\n",
       "      <td>2772.000000</td>\n",
       "      <td>2772.000000</td>\n",
       "      <td>2772.000000</td>\n",
       "      <td>2772.000000</td>\n",
       "      <td>2772.000000</td>\n",
       "    </tr>\n",
       "    <tr>\n",
       "      <th>mean</th>\n",
       "      <td>1386.500000</td>\n",
       "      <td>39.109668</td>\n",
       "      <td>30.701349</td>\n",
       "      <td>1.101732</td>\n",
       "      <td>13261.369959</td>\n",
       "    </tr>\n",
       "    <tr>\n",
       "      <th>std</th>\n",
       "      <td>800.351798</td>\n",
       "      <td>14.081459</td>\n",
       "      <td>6.129449</td>\n",
       "      <td>1.214806</td>\n",
       "      <td>12151.768945</td>\n",
       "    </tr>\n",
       "    <tr>\n",
       "      <th>min</th>\n",
       "      <td>1.000000</td>\n",
       "      <td>18.000000</td>\n",
       "      <td>15.960000</td>\n",
       "      <td>0.000000</td>\n",
       "      <td>1121.873900</td>\n",
       "    </tr>\n",
       "    <tr>\n",
       "      <th>25%</th>\n",
       "      <td>693.750000</td>\n",
       "      <td>26.000000</td>\n",
       "      <td>26.220000</td>\n",
       "      <td>0.000000</td>\n",
       "      <td>4687.797000</td>\n",
       "    </tr>\n",
       "    <tr>\n",
       "      <th>50%</th>\n",
       "      <td>1386.500000</td>\n",
       "      <td>39.000000</td>\n",
       "      <td>30.447500</td>\n",
       "      <td>1.000000</td>\n",
       "      <td>9333.014350</td>\n",
       "    </tr>\n",
       "    <tr>\n",
       "      <th>75%</th>\n",
       "      <td>2079.250000</td>\n",
       "      <td>51.000000</td>\n",
       "      <td>34.770000</td>\n",
       "      <td>2.000000</td>\n",
       "      <td>16577.779500</td>\n",
       "    </tr>\n",
       "    <tr>\n",
       "      <th>max</th>\n",
       "      <td>2772.000000</td>\n",
       "      <td>64.000000</td>\n",
       "      <td>53.130000</td>\n",
       "      <td>5.000000</td>\n",
       "      <td>63770.428010</td>\n",
       "    </tr>\n",
       "  </tbody>\n",
       "</table>\n",
       "</div>"
      ],
      "text/plain": [
       "                id          age          bmi     children       charges\n",
       "count  2772.000000  2772.000000  2772.000000  2772.000000   2772.000000\n",
       "mean   1386.500000    39.109668    30.701349     1.101732  13261.369959\n",
       "std     800.351798    14.081459     6.129449     1.214806  12151.768945\n",
       "min       1.000000    18.000000    15.960000     0.000000   1121.873900\n",
       "25%     693.750000    26.000000    26.220000     0.000000   4687.797000\n",
       "50%    1386.500000    39.000000    30.447500     1.000000   9333.014350\n",
       "75%    2079.250000    51.000000    34.770000     2.000000  16577.779500\n",
       "max    2772.000000    64.000000    53.130000     5.000000  63770.428010"
      ]
     },
     "execution_count": 7,
     "metadata": {},
     "output_type": "execute_result"
    }
   ],
   "source": [
    "df.describe()"
   ]
  },
  {
   "cell_type": "code",
   "execution_count": 8,
   "metadata": {},
   "outputs": [
    {
     "data": {
      "text/plain": [
       "id          0\n",
       "age         0\n",
       "gender      0\n",
       "bmi         0\n",
       "children    0\n",
       "smoker      0\n",
       "region      0\n",
       "charges     0\n",
       "dtype: int64"
      ]
     },
     "execution_count": 8,
     "metadata": {},
     "output_type": "execute_result"
    }
   ],
   "source": [
    "df.isna().sum()"
   ]
  },
  {
   "cell_type": "code",
   "execution_count": 9,
   "metadata": {},
   "outputs": [],
   "source": [
    "df = df.dropna()"
   ]
  },
  {
   "cell_type": "code",
   "execution_count": 10,
   "metadata": {},
   "outputs": [
    {
     "data": {
      "text/plain": [
       "0"
      ]
     },
     "execution_count": 10,
     "metadata": {},
     "output_type": "execute_result"
    }
   ],
   "source": [
    "df.duplicated().sum()"
   ]
  },
  {
   "cell_type": "code",
   "execution_count": 11,
   "metadata": {},
   "outputs": [],
   "source": [
    "df = df.drop_duplicates()"
   ]
  },
  {
   "cell_type": "code",
   "execution_count": 12,
   "metadata": {},
   "outputs": [
    {
     "data": {
      "text/plain": [
       "(2772, 8)"
      ]
     },
     "execution_count": 12,
     "metadata": {},
     "output_type": "execute_result"
    }
   ],
   "source": [
    "df.shape"
   ]
  },
  {
   "cell_type": "code",
   "execution_count": 13,
   "metadata": {},
   "outputs": [
    {
     "data": {
      "text/plain": [
       "array(['age', 'bmi', 'children'], dtype=object)"
      ]
     },
     "execution_count": 13,
     "metadata": {},
     "output_type": "execute_result"
    }
   ],
   "source": [
    "num_cols = df.iloc[:,1:-1].select_dtypes(exclude='object').columns.values\n",
    "num_cols"
   ]
  },
  {
   "cell_type": "code",
   "execution_count": 14,
   "metadata": {},
   "outputs": [],
   "source": [
    "le = LabelEncoder()"
   ]
  },
  {
   "cell_type": "code",
   "execution_count": 15,
   "metadata": {},
   "outputs": [],
   "source": [
    "for i in df.iloc[:,1:-1].columns:\n",
    "    if df[i].dtype == 'object':  \n",
    "        df[i] = le.fit_transform(df[i])"
   ]
  },
  {
   "cell_type": "code",
   "execution_count": 16,
   "metadata": {},
   "outputs": [
    {
     "data": {
      "image/png": "[encoded data removed]",
      "text/plain": [
       "<Figure size 720x720 with 2 Axes>"
      ]
     },
     "metadata": {},
     "output_type": "display_data"
    }
   ],
   "source": [
    "plt.figure(figsize=(10,10))\n",
    "sns.heatmap(df.corr(),annot=True)\n",
    "plt.show()"
   ]
  },
  {
   "cell_type": "code",
   "execution_count": 17,
   "metadata": {},
   "outputs": [
    {
     "data": {
      "text/html": [
       "<div>\n",
       "<style scoped>\n",
       "    .dataframe tbody tr th:only-of-type {\n",
       "        vertical-align: middle;\n",
       "    }\n",
       "\n",
       "    .dataframe tbody tr th {\n",
       "        vertical-align: top;\n",
       "    }\n",
       "\n",
       "    .dataframe thead th {\n",
       "        text-align: right;\n",
       "    }\n",
       "</style>\n",
       "<table border=\"1\" class=\"dataframe\">\n",
       "  <thead>\n",
       "    <tr style=\"text-align: right;\">\n",
       "      <th></th>\n",
       "      <th>id</th>\n",
       "      <th>age</th>\n",
       "      <th>gender</th>\n",
       "      <th>bmi</th>\n",
       "      <th>children</th>\n",
       "      <th>smoker</th>\n",
       "      <th>region</th>\n",
       "      <th>charges</th>\n",
       "    </tr>\n",
       "  </thead>\n",
       "  <tbody>\n",
       "    <tr>\n",
       "      <th>0</th>\n",
       "      <td>1</td>\n",
       "      <td>19</td>\n",
       "      <td>0</td>\n",
       "      <td>27.90</td>\n",
       "      <td>0</td>\n",
       "      <td>1</td>\n",
       "      <td>3</td>\n",
       "      <td>16884.9240</td>\n",
       "    </tr>\n",
       "    <tr>\n",
       "      <th>1</th>\n",
       "      <td>2</td>\n",
       "      <td>18</td>\n",
       "      <td>1</td>\n",
       "      <td>33.77</td>\n",
       "      <td>1</td>\n",
       "      <td>0</td>\n",
       "      <td>2</td>\n",
       "      <td>1725.5523</td>\n",
       "    </tr>\n",
       "  </tbody>\n",
       "</table>\n",
       "</div>"
      ],
      "text/plain": [
       "   id  age  gender    bmi  children  smoker  region     charges\n",
       "0   1   19       0  27.90         0       1       3  16884.9240\n",
       "1   2   18       1  33.77         1       0       2   1725.5523"
      ]
     },
     "execution_count": 17,
     "metadata": {},
     "output_type": "execute_result"
    }
   ],
   "source": [
    "df.head(2)"
   ]
  },
  {
   "cell_type": "code",
   "execution_count": 18,
   "metadata": {},
   "outputs": [],
   "source": [
    "# Divide the data into “Attributes” and “labels”\n",
    "X = df.iloc[:,1:-1]\n",
    "y = df.iloc[:,-1]"
   ]
  },
  {
   "cell_type": "code",
   "execution_count": 19,
   "metadata": {},
   "outputs": [
    {
     "data": {
      "text/plain": [
       "5615.36900     4\n",
       "8569.86180     4\n",
       "7348.14200     4\n",
       "1121.87390     4\n",
       "21595.38229    4\n",
       "              ..\n",
       "5124.18870     2\n",
       "10043.24900    2\n",
       "39836.51900    2\n",
       "7358.17565     2\n",
       "9140.95100     2\n",
       "Name: charges, Length: 1337, dtype: int64"
      ]
     },
     "execution_count": 19,
     "metadata": {},
     "output_type": "execute_result"
    }
   ],
   "source": [
    "y.value_counts()"
   ]
  },
  {
   "cell_type": "code",
   "execution_count": 20,
   "metadata": {},
   "outputs": [],
   "source": [
    "le = LabelEncoder()\n",
    "y = le.fit_transform(y)"
   ]
  },
  {
   "cell_type": "code",
   "execution_count": 21,
   "metadata": {},
   "outputs": [],
   "source": [
    "# Split 80% of the data to the training set while 20% of the data to test set\n",
    "X_train, X_test, y_train, y_test = train_test_split(X, y, test_size=0.2, random_state=0)"
   ]
  },
  {
   "cell_type": "code",
   "execution_count": 22,
   "metadata": {},
   "outputs": [],
   "source": [
    "sc = StandardScaler()\n",
    "X_train[num_cols] = sc.fit_transform(X_train[num_cols])\n",
    "X_test[num_cols] = sc.fit_transform(X_test[num_cols])"
   ]
  },
  {
   "cell_type": "code",
   "execution_count": 23,
   "metadata": {},
   "outputs": [
    {
     "data": {
      "text/html": [
       "<div>\n",
       "<style scoped>\n",
       "    .dataframe tbody tr th:only-of-type {\n",
       "        vertical-align: middle;\n",
       "    }\n",
       "\n",
       "    .dataframe tbody tr th {\n",
       "        vertical-align: top;\n",
       "    }\n",
       "\n",
       "    .dataframe thead th {\n",
       "        text-align: right;\n",
       "    }\n",
       "</style>\n",
       "<table border=\"1\" class=\"dataframe\">\n",
       "  <thead>\n",
       "    <tr style=\"text-align: right;\">\n",
       "      <th></th>\n",
       "      <th>age</th>\n",
       "      <th>gender</th>\n",
       "      <th>bmi</th>\n",
       "      <th>children</th>\n",
       "      <th>smoker</th>\n",
       "      <th>region</th>\n",
       "    </tr>\n",
       "  </thead>\n",
       "  <tbody>\n",
       "    <tr>\n",
       "      <th>897</th>\n",
       "      <td>-1.405592</td>\n",
       "      <td>1</td>\n",
       "      <td>-0.763828</td>\n",
       "      <td>-0.042760</td>\n",
       "      <td>0</td>\n",
       "      <td>1</td>\n",
       "    </tr>\n",
       "    <tr>\n",
       "      <th>2413</th>\n",
       "      <td>-1.116423</td>\n",
       "      <td>1</td>\n",
       "      <td>-1.807795</td>\n",
       "      <td>-0.890324</td>\n",
       "      <td>0</td>\n",
       "      <td>1</td>\n",
       "    </tr>\n",
       "    <tr>\n",
       "      <th>2576</th>\n",
       "      <td>-0.538087</td>\n",
       "      <td>0</td>\n",
       "      <td>0.338137</td>\n",
       "      <td>0.804804</td>\n",
       "      <td>0</td>\n",
       "      <td>1</td>\n",
       "    </tr>\n",
       "    <tr>\n",
       "      <th>723</th>\n",
       "      <td>-1.405592</td>\n",
       "      <td>1</td>\n",
       "      <td>0.738782</td>\n",
       "      <td>-0.890324</td>\n",
       "      <td>0</td>\n",
       "      <td>3</td>\n",
       "    </tr>\n",
       "    <tr>\n",
       "      <th>619</th>\n",
       "      <td>1.196922</td>\n",
       "      <td>0</td>\n",
       "      <td>0.998247</td>\n",
       "      <td>-0.890324</td>\n",
       "      <td>0</td>\n",
       "      <td>3</td>\n",
       "    </tr>\n",
       "    <tr>\n",
       "      <th>...</th>\n",
       "      <td>...</td>\n",
       "      <td>...</td>\n",
       "      <td>...</td>\n",
       "      <td>...</td>\n",
       "      <td>...</td>\n",
       "      <td>...</td>\n",
       "    </tr>\n",
       "    <tr>\n",
       "      <th>438</th>\n",
       "      <td>0.980046</td>\n",
       "      <td>0</td>\n",
       "      <td>2.471095</td>\n",
       "      <td>3.347497</td>\n",
       "      <td>0</td>\n",
       "      <td>2</td>\n",
       "    </tr>\n",
       "    <tr>\n",
       "      <th>1736</th>\n",
       "      <td>1.341506</td>\n",
       "      <td>0</td>\n",
       "      <td>-1.126316</td>\n",
       "      <td>-0.890324</td>\n",
       "      <td>0</td>\n",
       "      <td>1</td>\n",
       "    </tr>\n",
       "    <tr>\n",
       "      <th>1293</th>\n",
       "      <td>0.546293</td>\n",
       "      <td>1</td>\n",
       "      <td>-0.734829</td>\n",
       "      <td>1.652369</td>\n",
       "      <td>0</td>\n",
       "      <td>1</td>\n",
       "    </tr>\n",
       "    <tr>\n",
       "      <th>1180</th>\n",
       "      <td>0.257125</td>\n",
       "      <td>0</td>\n",
       "      <td>1.643095</td>\n",
       "      <td>-0.042760</td>\n",
       "      <td>0</td>\n",
       "      <td>0</td>\n",
       "    </tr>\n",
       "    <tr>\n",
       "      <th>1226</th>\n",
       "      <td>-0.032043</td>\n",
       "      <td>1</td>\n",
       "      <td>-2.097785</td>\n",
       "      <td>0.804804</td>\n",
       "      <td>0</td>\n",
       "      <td>0</td>\n",
       "    </tr>\n",
       "  </tbody>\n",
       "</table>\n",
       "<p>555 rows × 6 columns</p>\n",
       "</div>"
      ],
      "text/plain": [
       "           age  gender       bmi  children  smoker  region\n",
       "897  -1.405592       1 -0.763828 -0.042760       0       1\n",
       "2413 -1.116423       1 -1.807795 -0.890324       0       1\n",
       "2576 -0.538087       0  0.338137  0.804804       0       1\n",
       "723  -1.405592       1  0.738782 -0.890324       0       3\n",
       "619   1.196922       0  0.998247 -0.890324       0       3\n",
       "...        ...     ...       ...       ...     ...     ...\n",
       "438   0.980046       0  2.471095  3.347497       0       2\n",
       "1736  1.341506       0 -1.126316 -0.890324       0       1\n",
       "1293  0.546293       1 -0.734829  1.652369       0       1\n",
       "1180  0.257125       0  1.643095 -0.042760       0       0\n",
       "1226 -0.032043       1 -2.097785  0.804804       0       0\n",
       "\n",
       "[555 rows x 6 columns]"
      ]
     },
     "execution_count": 23,
     "metadata": {},
     "output_type": "execute_result"
    }
   ],
   "source": [
    "X_test"
   ]
  },
  {
   "cell_type": "code",
   "execution_count": 24,
   "metadata": {},
   "outputs": [],
   "source": [
    "# Create a Linear Regression model and fit it\n",
    "lr =LinearRegression()\n",
    "model = lr.fit(X_train,y_train)"
   ]
  },
  {
   "cell_type": "code",
   "execution_count": 25,
   "metadata": {},
   "outputs": [
    {
     "data": {
      "text/plain": [
       "array([ 225.63587007,  226.27670833,  491.71465271,  186.50842854,\n",
       "        756.97465827,  307.78200965,  442.94785154,  339.350317  ,\n",
       "        502.28699501,  896.54485212,  935.55602952,  635.38758813,\n",
       "        253.85199149,  533.8736081 ,  424.69155799,  736.71435355,\n",
       "        730.45053439,  715.91920186,  671.37441994,  894.34703644,\n",
       "        749.84011194,  231.31621755, 1504.06950119,  182.0964141 ,\n",
       "        755.32819208, 1163.55131412,  760.42767045,  839.20584133,\n",
       "       1157.81549062,  668.9932935 , 1122.32496058,  474.93985619,\n",
       "        688.06597547,  278.27823546,  203.1713846 , 1546.73770607,\n",
       "        678.52665384,  651.54204317,  736.71435355,  455.38956674,\n",
       "       1041.76645532,  182.58316696,  382.67917094,  731.66122443,\n",
       "        545.38076601, 1328.84982472,  965.86384794,  945.86970159,\n",
       "        598.60778786,  200.91152738, 1282.35482555,  186.98402201,\n",
       "        241.68172037,  206.71493237,  452.3441927 ,  361.68794262,\n",
       "        894.20949335, 1608.58260423,  303.270354  ,  927.34203709,\n",
       "        838.82701737, 1177.18690763,  316.31520935,  834.6740408 ,\n",
       "        653.50779281,  793.43363026,  603.57666583, 1017.7380461 ,\n",
       "        501.3310714 ,  472.28627575,  468.2849492 ,  261.44265162,\n",
       "       1443.51355013,  436.58559093,  242.70268388,  460.22197401,\n",
       "        587.0379451 ,  715.59788656,  267.35931075, 1262.45356288,\n",
       "        426.59530585,  801.7472027 ,  693.66151611,  391.24906556,\n",
       "        622.90609238,  684.02255302,  387.75878781,  589.92596232,\n",
       "        781.00489967,  831.24245285,  248.02844162, 1432.91582136,\n",
       "        889.17146029,  528.7792731 ,  174.10735577,  209.2726013 ,\n",
       "        523.81597484, 1314.51786141,  784.0056182 ,  284.25773544,\n",
       "        306.20275729,  350.25269141, 1025.4100456 ,  769.52250686,\n",
       "        523.81597484,  667.92256   ,  610.49536527,  961.58795936,\n",
       "        731.42263342,  640.78476868,  449.76371097,  583.86139303,\n",
       "        600.9931452 ,  583.43348987,  668.9932935 ,  489.20029049,\n",
       "        410.33853036,  664.07904854, 1446.44819998,  235.39524833,\n",
       "        648.70635869,  896.54485212,  238.43827039, 1144.29553578,\n",
       "        510.02552555,  478.49507232, 1270.70786711,  770.75980428,\n",
       "        607.17702449,  385.82074787, 1150.71832922,  448.85111966,\n",
       "        694.96000436,  227.39758248,  226.66042119,  557.53565404,\n",
       "        886.98503999, 1242.74481506,  538.01119435,  195.79044293,\n",
       "       1580.0172511 ,  699.22602113,  802.10634322, 1315.41152953,\n",
       "        147.67890389,  162.02820183, 1252.45542262,  304.83386336,\n",
       "       1165.76867193,  769.40869626,  810.69144985,  838.22157274,\n",
       "        610.70787205,  946.93232569,  288.446233  , 1050.49040643,\n",
       "        455.84522608,  287.2409664 , 1003.09276863,  460.72317965,\n",
       "        381.32683427,  684.75865976,  535.71374444,  770.98080229,\n",
       "       1372.61666858,  323.18858442,  337.54133563,  429.28177191,\n",
       "        697.13574555,  242.34148956,  281.82787884,  227.60467644,\n",
       "        835.00037212,  778.90801177,  644.53205942,  643.18347029,\n",
       "        212.29309784,  360.70103866,  542.66049463,  765.67739212,\n",
       "       1109.13453612,  351.83939541,  644.53205942, 1170.9545129 ,\n",
       "        255.17342765, 1596.3010561 ,  902.5300812 , 1278.19148191,\n",
       "        824.24571106,  776.01338997,  731.66122443,  924.28036025,\n",
       "        418.55285015,  354.84650094,  663.57677825,  893.91689093,\n",
       "        768.57452192,  227.60467644,  310.77636721,  311.27587502,\n",
       "        395.56513857,  769.18123575, 1290.29668755,  182.0964141 ,\n",
       "        837.57061768,  472.45477005,  236.9248472 ,  769.92434362,\n",
       "        265.23460876,  527.02206079,  238.43827039,  352.12185657,\n",
       "        576.96909478,  360.40914099,  797.41175521, 1396.04074486,\n",
       "        152.1248358 ,  738.26593311,  184.14826489,  728.0884153 ,\n",
       "        869.2392863 , 1279.65759663,  824.73778916,  633.59419682,\n",
       "        931.09143586,  235.08868005, 1237.57416062, 1206.08495713,\n",
       "        565.51428353,  168.76275444, 1291.17601139,  855.23060147,\n",
       "        709.10649372,  206.3312195 ,  778.90801177,  650.86317591,\n",
       "       1322.8541999 ,  553.26912136, 1130.33880185,  895.71859475,\n",
       "        782.90848429,  238.43827039,  862.4663378 ,  700.09700278,\n",
       "       1494.64557073,  570.19267803,  542.31389829,  865.99695955,\n",
       "        410.33189298,  607.53460925,  604.22148826, 1055.40363349,\n",
       "        601.96904655,  845.63632671,  858.83360247,  174.10735577,\n",
       "        323.18858442,  643.10530083,  349.36278579,  322.16125584,\n",
       "        793.87417596,  957.71220213,  836.54374382,  703.3276252 ,\n",
       "        449.49543314,  498.94878576,  979.62848941,  690.9628508 ,\n",
       "        185.33748318,  227.74856267,  671.89706069, 1292.23684694,\n",
       "       1275.95295435,  820.95764246,  773.80944587, 1057.31082766,\n",
       "        592.44271937, 1041.76645532,  221.1409316 ,  355.95622266,\n",
       "        381.17344665,  442.54998424,  359.00875   , 1058.30156649,\n",
       "       1032.80211388,  572.87850803,  382.00454929,  806.0752931 ,\n",
       "       1342.17329915,  631.63229702,  569.62525466,  669.73960714,\n",
       "        663.40173704,  283.81694327, 1059.57555186,  788.76513371,\n",
       "        876.39481711, 1220.10554983,  498.94878576, 1511.66136108,\n",
       "        245.32341924,  225.63587007,  734.29416601, 1146.35125757,\n",
       "        528.7792731 , 1002.33758192, 1023.4016764 , 1020.02176293,\n",
       "        563.53554641,  693.66837516,  625.0386276 , 1410.59876196,\n",
       "        259.30549591, 1521.76374807,  459.63039679,  822.7714112 ,\n",
       "        571.67641466,  801.88801723,  245.32341924,  881.07644664,\n",
       "       1387.7199465 ,  865.36358   ,  203.70689653,  857.45373098,\n",
       "       1300.3493991 , 1300.51487644,  560.70440179,  902.41613627,\n",
       "        486.12721474,  754.11711324,  465.05567558,  625.82587507,\n",
       "        689.6660307 ,  712.42573227, 1144.29553578,  740.95650271,\n",
       "        415.09858451, 1399.70170581,  537.04180712,  642.2365727 ,\n",
       "        189.72282777,  382.00454929,  275.45028267,  600.79545808,\n",
       "        641.52975623,  722.10970356,  433.26079462,  255.99165521,\n",
       "        740.33342843,  227.74856267,  564.75123775,  283.53803692,\n",
       "        235.28027853,  258.67509735,  810.69144985,  684.75865976,\n",
       "        782.55805282,  713.20730546,  187.32637273,  319.01848716,\n",
       "        414.50068199,  499.71524427,  251.0771488 ,  401.30521569,\n",
       "        872.86980372,  645.35615397,  823.40416871,  274.96194124,\n",
       "        454.38834434,  487.7546883 ,  468.2849492 ,  886.21170745,\n",
       "        255.69040519,  520.87167761,  220.67219719,  182.90473674,\n",
       "        573.52078965,  622.90609238,  715.59788656,  589.92596232,\n",
       "        403.78285019, 1366.56525077,  384.94496388,  600.9931452 ,\n",
       "       1072.48101411,  704.86964785,  709.57522117,  557.53565404,\n",
       "        800.74740894,  597.77484218,  526.12062888,  382.00454929,\n",
       "        317.21094916, 1521.76374807, 1515.14911586,  800.39458962,\n",
       "        428.19561556,  395.78109863,  733.19029241,  234.60707056,\n",
       "        512.21052062, 1399.70170581,  220.67416734,  327.92665377,\n",
       "       1314.51786141,  259.08517086, 1229.01289156,  900.889638  ,\n",
       "        791.69528347,  767.06495554,  354.84650094,  225.12472671,\n",
       "        670.65791249,  594.41133692,  846.85851022, 1590.68113993,\n",
       "        397.2911959 ,  427.55122945,  860.28098954,  660.26735031,\n",
       "        754.36448973,  892.93486812,  770.15274941,  409.90078406,\n",
       "        545.65737106,  387.70908348,  616.69755726,  440.15762576,\n",
       "        893.91689093,  626.87624898,  881.07644664,  850.50233551,\n",
       "        476.33100723, 1020.02176293,  274.96194124,  158.39963251,\n",
       "        200.91152738,  268.00771383,  601.96904655, 1022.11977441,\n",
       "       1009.25922215,  277.35389619, 1491.3101787 ,  186.92310758,\n",
       "        709.57522117, 1357.99549823,  664.07904854,  855.7955238 ,\n",
       "        409.58374717, 1455.51450181, 1272.53882917,  415.98493454,\n",
       "        818.016395  , 1240.87726736,  542.93620914, 1299.85935286,\n",
       "        254.90975534,  467.08091822,  799.60641184,  881.01592877,\n",
       "        803.16917782,  564.53161047, 1314.03283918,  281.82787884,\n",
       "        538.05505754,  819.00742521,  349.36278579,  355.56189911,\n",
       "        279.87552821,  198.28159579,  593.56637097,  781.00489967,\n",
       "        999.75658427, 1546.73770607, 1045.53814046,  555.36760479,\n",
       "        881.01592877,  778.86787131,  319.50061257,  969.77943325,\n",
       "        543.16383756,  238.54093577,  727.8183929 ,  342.89057139,\n",
       "        538.0961652 ,  431.87895298, 1327.45127287,  440.15762576,\n",
       "        407.02896809,  375.32284533,  226.27670833,  697.31169149,\n",
       "        869.2392863 ,  499.41117703,  628.43047088,  233.69465414,\n",
       "        678.84715098,  453.59211551,  549.50196214,  245.18364455,\n",
       "        841.10626379,  564.75123775,  746.94802009, 1103.55080592,\n",
       "        865.71004923,  624.38824044,  181.50641047,  782.26220762,\n",
       "        380.44963659,  172.64107417,  802.87069029,  538.0961652 ,\n",
       "        836.14930788,  892.93486812,  416.08841087,  433.65416879,\n",
       "       1242.20926259,  853.01153573,  470.51025961,  634.98880114,\n",
       "        829.97455615,  748.37531347,  640.78476868,  468.59831087,\n",
       "        683.47788797,  397.45361651,  178.21993741,  467.10886743,\n",
       "       1064.46068763,  695.61015202,  845.90153284,  283.81694327,\n",
       "        899.14933553,  564.79510093, 1274.50419696,  731.94247887,\n",
       "        801.7751519 , 1212.35415221, 1451.15964724,  916.71670405,\n",
       "        722.42584268,  752.13270185,  218.01156088, 1340.13216447,\n",
       "        235.28027853, 1165.17931856,  209.2726013 ,  350.68859493,\n",
       "        162.36369349,  452.1842801 ,  939.49007381,  776.80817232,\n",
       "        698.97242861,  672.51168038,  532.73667477])"
      ]
     },
     "execution_count": 25,
     "metadata": {},
     "output_type": "execute_result"
    }
   ],
   "source": [
    "# Predicting the data\n",
    "y_predict=model.predict(X_test)\n",
    "y_predict"
   ]
  },
  {
   "cell_type": "code",
   "execution_count": 26,
   "metadata": {},
   "outputs": [
    {
     "data": {
      "text/plain": [
       "0.7027328163373184"
      ]
     },
     "execution_count": 26,
     "metadata": {},
     "output_type": "execute_result"
    }
   ],
   "source": [
    "from sklearn.metrics import accuracy_score\n",
    "r2_score(y_predict,y_test)"
   ]
  },
  {
   "cell_type": "code",
   "execution_count": 27,
   "metadata": {},
   "outputs": [
    {
     "data": {
      "text/plain": [
       "74.16392147634976"
      ]
     },
     "execution_count": 27,
     "metadata": {},
     "output_type": "execute_result"
    }
   ],
   "source": [
    "DT=DecisionTreeRegressor()\n",
    "dt=DT.fit(X_train,y_train)\n",
    "dt_pred=dt.predict(X_test)\n",
    "dt_acc_score=r2_score(y_test,dt_pred)*100\n",
    "(dt_acc_score)"
   ]
  },
  {
   "cell_type": "code",
   "execution_count": 28,
   "metadata": {},
   "outputs": [
    {
     "data": {
      "text/plain": [
       "87.2181833753395"
      ]
     },
     "execution_count": 28,
     "metadata": {},
     "output_type": "execute_result"
    }
   ],
   "source": [
    "RF=RandomForestRegressor()\n",
    "rf=RF.fit(X_train,y_train)\n",
    "rf_pred=rf.predict(X_test)\n",
    "rf_acc_score=r2_score(y_test,rf_pred)*100\n",
    "(rf_acc_score)"
   ]
  }
 ],
 "metadata": {
  "kernelspec": {
   "display_name": "Python 3",
   "language": "python",
   "name": "python3"
  },
  "language_info": {
   "codemirror_mode": {
    "name": "ipython",
    "version": 3
   },
   "file_extension": ".py",
   "mimetype": "text/x-python",
   "name": "python",
   "nbconvert_exporter": "python",
   "pygments_lexer": "ipython3",
   "version": "3.6.5"
  }
 },
 "nbformat": 4,
 "nbformat_minor": 4
}
